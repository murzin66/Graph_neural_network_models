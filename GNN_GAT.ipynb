{
  "cells": [
    {
      "cell_type": "markdown",
      "metadata": {
        "id": "vRf7qSNra8_p"
      },
      "source": [
        "This code made for testing graph attentional neural network and is based on (https://github.com/akensert)\n"
      ]
    },
    {
      "cell_type": "markdown",
      "metadata": {
        "id": "i4fr5r9Ta8_v"
      },
      "source": [
        "### Import packages"
      ]
    },
    {
      "cell_type": "code",
      "execution_count": null,
      "metadata": {
        "id": "TmypLlGKa8_w"
      },
      "outputs": [],
      "source": [
        "import tensorflow as tf\n",
        "from tensorflow import keras\n",
        "from tensorflow.keras import layers\n",
        "import numpy as np\n",
        "import pandas as pd\n",
        "import os\n",
        "import warnings\n",
        "\n",
        "warnings.filterwarnings(\"ignore\")\n",
        "pd.set_option(\"display.max_columns\", 6)\n",
        "pd.set_option(\"display.max_rows\", 6)\n",
        "np.random.seed(2)"
      ]
    },
    {
      "cell_type": "markdown",
      "metadata": {
        "id": "jZIWV2_la8_x"
      },
      "source": [
        "## Obtain the dataset\n",
        "\n",
        "The preparation of the [Cora dataset](https://linqs.soe.ucsc.edu/data) follows that of the\n",
        "[Node classification with Graph Neural Networks](https://keras.io/examples/graph/gnn_citations/)\n",
        "tutorial. Refer to this tutorial for more details on the dataset and exploratory data analysis.\n",
        "In brief, the Cora dataset consists of two files: `cora.cites` which contains *directed links* (citations) between\n",
        "papers; and `cora.content` which contains *features* of the corresponding papers and one\n",
        "of seven labels (the *subject* of the paper)."
      ]
    },
    {
      "cell_type": "code",
      "execution_count": null,
      "metadata": {
        "id": "Lo6JB9lea8_x",
        "outputId": "1b4d54da-cb0e-4e1f-cbd9-259556b927c6",
        "colab": {
          "base_uri": "https://localhost:8080/"
        }
      },
      "outputs": [
        {
          "output_type": "stream",
          "name": "stdout",
          "text": [
            "Downloading data from https://linqs-data.soe.ucsc.edu/public/lbc/cora.tgz\n",
            "168052/168052 [==============================] - 0s 1us/step\n",
            "      target  source\n",
            "0          0      21\n",
            "1          0     905\n",
            "2          0     906\n",
            "...      ...     ...\n",
            "5426    1874    2586\n",
            "5427    1876    1874\n",
            "5428    1897    2707\n",
            "\n",
            "[5429 rows x 2 columns]\n",
            "      paper_id  term_0  term_1  ...  term_1431  term_1432  subject\n",
            "0          462       0       0  ...          0          0        2\n",
            "1         1911       0       0  ...          0          0        5\n",
            "2         2002       0       0  ...          0          0        4\n",
            "...        ...     ...     ...  ...        ...        ...      ...\n",
            "2705      2372       0       0  ...          0          0        1\n",
            "2706       955       0       0  ...          0          0        0\n",
            "2707       376       0       0  ...          0          0        2\n",
            "\n",
            "[2708 rows x 1435 columns]\n"
          ]
        }
      ],
      "source": [
        "zip_file = keras.utils.get_file(\n",
        "    fname=\"cora.tgz\",\n",
        "    origin=\"https://linqs-data.soe.ucsc.edu/public/lbc/cora.tgz\",\n",
        "    extract=True,\n",
        ")\n",
        "\n",
        "data_dir = os.path.join(os.path.dirname(zip_file), \"cora\")\n",
        "\n",
        "citations = pd.read_csv(\n",
        "    os.path.join(data_dir, \"cora.cites\"),\n",
        "    sep=\"\\t\",\n",
        "    header=None,\n",
        "    names=[\"target\", \"source\"],\n",
        ")\n",
        "\n",
        "papers = pd.read_csv(\n",
        "    os.path.join(data_dir, \"cora.content\"),\n",
        "    sep=\"\\t\",\n",
        "    header=None,\n",
        "    names=[\"paper_id\"] + [f\"term_{idx}\" for idx in range(1433)] + [\"subject\"],\n",
        ")\n",
        "\n",
        "class_values = sorted(papers[\"subject\"].unique())\n",
        "class_idx = {name: id for id, name in enumerate(class_values)}\n",
        "paper_idx = {name: idx for idx, name in enumerate(sorted(papers[\"paper_id\"].unique()))}\n",
        "\n",
        "papers[\"paper_id\"] = papers[\"paper_id\"].apply(lambda name: paper_idx[name])\n",
        "citations[\"source\"] = citations[\"source\"].apply(lambda name: paper_idx[name])\n",
        "citations[\"target\"] = citations[\"target\"].apply(lambda name: paper_idx[name])\n",
        "papers[\"subject\"] = papers[\"subject\"].apply(lambda value: class_idx[value])\n",
        "\n",
        "print(citations)\n",
        "\n",
        "print(papers)"
      ]
    },
    {
      "cell_type": "markdown",
      "metadata": {
        "id": "0kBKhVkoa8_y"
      },
      "source": [
        "### Split the dataset"
      ]
    },
    {
      "cell_type": "code",
      "execution_count": null,
      "metadata": {
        "id": "Jo3VS6QNa8_z"
      },
      "outputs": [],
      "source": [
        "# Obtain random indices\n",
        "random_indices = np.random.permutation(range(papers.shape[0]))\n",
        "\n",
        "# 50/50 split\n",
        "train_data = papers.iloc[random_indices[: len(random_indices) // 2]]\n",
        "test_data = papers.iloc[random_indices[len(random_indices) // 2 :]]"
      ]
    },
    {
      "cell_type": "markdown",
      "metadata": {
        "id": "kqGqmEu6a8_0"
      },
      "source": [
        "### Prepare the graph data"
      ]
    },
    {
      "cell_type": "code",
      "execution_count": null,
      "metadata": {
        "id": "yjLMnAAza8_0",
        "outputId": "c3d9b83c-b291-44bf-8fe7-50d43227864b",
        "colab": {
          "base_uri": "https://localhost:8080/"
        }
      },
      "outputs": [
        {
          "output_type": "stream",
          "name": "stdout",
          "text": [
            "Edges shape:\t\t (5429, 2)\n",
            "Node features shape: (2708, 1433)\n"
          ]
        }
      ],
      "source": [
        "# Obtain paper indices which will be used to gather node states\n",
        "# from the graph later on when training the model\n",
        "train_indices = train_data[\"paper_id\"].to_numpy()\n",
        "test_indices = test_data[\"paper_id\"].to_numpy()\n",
        "\n",
        "# Obtain ground truth labels corresponding to each paper_id\n",
        "train_labels = train_data[\"subject\"].to_numpy()\n",
        "test_labels = test_data[\"subject\"].to_numpy()\n",
        "\n",
        "# Define graph, namely an edge tensor and a node feature tensor\n",
        "edges = tf.convert_to_tensor(citations[[\"target\", \"source\"]])\n",
        "node_states = tf.convert_to_tensor(papers.sort_values(\"paper_id\").iloc[:, 1:-1])\n",
        "\n",
        "# Print shapes of the graph\n",
        "print(\"Edges shape:\\t\\t\", edges.shape)\n",
        "print(\"Node features shape:\", node_states.shape)"
      ]
    },
    {
      "cell_type": "markdown",
      "metadata": {
        "id": "AJzUFQsIa8_1"
      },
      "source": [
        "## Build the model\n",
        "\n",
        "GAT takes as input a graph (namely an edge tensor and a node feature tensor) and\n",
        "outputs \\[updated\\] node states. The node states are, for each target node, neighborhood\n",
        "aggregated information of *N*-hops (where *N* is decided by the number of layers of the\n",
        "GAT). Importantly, in contrast to the\n",
        "[graph convolutional network](https://arxiv.org/abs/1609.02907) (GCN)\n",
        "the GAT makes use of attention mechanisms\n",
        "to aggregate information from neighboring nodes (or *source nodes*). In other words, instead of simply\n",
        "averaging/summing node states from source nodes (*source papers*) to the target node (*target papers*),\n",
        "GAT first applies normalized attention scores to each source node state and then sums."
      ]
    },
    {
      "cell_type": "markdown",
      "metadata": {
        "id": "LuecRQgNa8_1"
      },
      "source": [
        "### (Multi-head) graph attention layer\n",
        "\n",
        "The GAT model implements multi-head graph attention layers. The `MultiHeadGraphAttention`\n",
        "layer is simply a concatenation (or averaging) of multiple graph attention layers\n",
        "(`GraphAttention`), each with separate learnable weights `W`. The `GraphAttention` layer\n",
        "does the following:\n",
        "\n",
        "Consider inputs node states `h^{l}` which are linearly transformed by `W^{l}`, resulting in `z^{l}`.\n",
        "\n",
        "For each target node:\n",
        "\n",
        "1. Computes pair-wise attention scores `a^{l}^{T}(z^{l}_{i}||z^{l}_{j})` for all `j`,\n",
        "resulting in `e_{ij}` (for all `j`).\n",
        "`||` denotes a concatenation, `_{i}` corresponds to the target node, and `_{j}`\n",
        "corresponds to a given 1-hop neighbor/source node.\n",
        "2. Normalizes `e_{ij}` via softmax, so as the sum of incoming edges' attention scores\n",
        "to the target node (`sum_{k}{e_{norm}_{ik}}`) will add up to 1.\n",
        "3. Applies attention scores `e_{norm}_{ij}` to `z_{j}`\n",
        "and adds it to the new target node state `h^{l+1}_{i}`, for all `j`."
      ]
    },
    {
      "cell_type": "code",
      "execution_count": null,
      "metadata": {
        "id": "uUs5tVWja8_1"
      },
      "outputs": [],
      "source": [
        "\n",
        "class GraphAttention(layers.Layer):\n",
        "    def __init__(\n",
        "        self,\n",
        "        units,\n",
        "        kernel_initializer=\"glorot_uniform\",\n",
        "        kernel_regularizer=None,\n",
        "        **kwargs,\n",
        "    ):\n",
        "        super().__init__(**kwargs)\n",
        "        self.units = units\n",
        "        self.kernel_initializer = keras.initializers.get(kernel_initializer)\n",
        "        self.kernel_regularizer = keras.regularizers.get(kernel_regularizer)\n",
        "\n",
        "    def build(self, input_shape):\n",
        "\n",
        "        self.kernel = self.add_weight(\n",
        "            shape=(input_shape[0][-1], self.units),\n",
        "            trainable=True,\n",
        "            initializer=self.kernel_initializer,\n",
        "            regularizer=self.kernel_regularizer,\n",
        "            name=\"kernel\",\n",
        "        )\n",
        "        self.kernel_attention = self.add_weight(\n",
        "            shape=(self.units * 2, 1),\n",
        "            trainable=True,\n",
        "            initializer=self.kernel_initializer,\n",
        "            regularizer=self.kernel_regularizer,\n",
        "            name=\"kernel_attention\",\n",
        "        )\n",
        "        self.built = True\n",
        "\n",
        "    def call(self, inputs):\n",
        "        node_states, edges = inputs\n",
        "\n",
        "        # Linearly transform node states\n",
        "        node_states_transformed = tf.matmul(node_states, self.kernel)\n",
        "\n",
        "        # (1) Compute pair-wise attention scores\n",
        "        node_states_expanded = tf.gather(node_states_transformed, edges)\n",
        "        node_states_expanded = tf.reshape(\n",
        "            node_states_expanded, (tf.shape(edges)[0], -1)\n",
        "        )\n",
        "        attention_scores = tf.nn.leaky_relu(\n",
        "            tf.matmul(node_states_expanded, self.kernel_attention)\n",
        "        )\n",
        "        attention_scores = tf.squeeze(attention_scores, -1)\n",
        "\n",
        "        # (2) Normalize attention scores\n",
        "        attention_scores = tf.math.exp(tf.clip_by_value(attention_scores, -2, 2))\n",
        "        attention_scores_sum = tf.math.unsorted_segment_sum(\n",
        "            data=attention_scores,\n",
        "            segment_ids=edges[:, 0],\n",
        "            num_segments=tf.reduce_max(edges[:, 0]) + 1,\n",
        "        )\n",
        "        attention_scores_sum = tf.repeat(\n",
        "            attention_scores_sum, tf.math.bincount(tf.cast(edges[:, 0], \"int32\"))\n",
        "        )\n",
        "        attention_scores_norm = attention_scores / attention_scores_sum\n",
        "\n",
        "        # (3) Gather node states of neighbors, apply attention scores and aggregate\n",
        "        node_states_neighbors = tf.gather(node_states_transformed, edges[:, 1])\n",
        "        out = tf.math.unsorted_segment_sum(\n",
        "            data=node_states_neighbors * attention_scores_norm[:, tf.newaxis],\n",
        "            segment_ids=edges[:, 0],\n",
        "            num_segments=tf.shape(node_states)[0],\n",
        "        )\n",
        "        return out\n",
        "\n",
        "\n",
        "class MultiHeadGraphAttention(layers.Layer):\n",
        "    def __init__(self, units, num_heads=8, merge_type=\"concat\", **kwargs):\n",
        "        super().__init__(**kwargs)\n",
        "        self.num_heads = num_heads\n",
        "        self.merge_type = merge_type\n",
        "        self.attention_layers = [GraphAttention(units) for _ in range(num_heads)]\n",
        "\n",
        "    def call(self, inputs):\n",
        "        atom_features, pair_indices = inputs\n",
        "\n",
        "        # Obtain outputs from each attention head\n",
        "        outputs = [\n",
        "            attention_layer([atom_features, pair_indices])\n",
        "            for attention_layer in self.attention_layers\n",
        "        ]\n",
        "        # Concatenate or average the node states from each head\n",
        "        if self.merge_type == \"concat\":\n",
        "            outputs = tf.concat(outputs, axis=-1)\n",
        "        else:\n",
        "            outputs = tf.reduce_mean(tf.stack(outputs, axis=-1), axis=-1)\n",
        "        # Activate and return node states\n",
        "        return tf.nn.relu(outputs)\n"
      ]
    },
    {
      "cell_type": "markdown",
      "metadata": {
        "id": "A_R0kXCfa8_2"
      },
      "source": [
        "### Implement training logic with custom `train_step`, `test_step`, and `predict_step` methods\n",
        "\n",
        "Notice, the GAT model operates on the entire graph (namely, `node_states` and\n",
        "`edges`) in all phases (training, validation and testing). Hence, `node_states` and\n",
        "`edges` are passed to the constructor of the `keras.Model` and used as attributes.\n",
        "The difference between the phases are the indices (and labels), which gathers\n",
        "certain outputs (`tf.gather(outputs, indices)`)."
      ]
    },
    {
      "cell_type": "code",
      "execution_count": null,
      "metadata": {
        "id": "JRguJjyZa8_3"
      },
      "outputs": [],
      "source": [
        "\n",
        "class GraphAttentionNetwork(keras.Model):\n",
        "    def __init__(\n",
        "        self,\n",
        "        node_states,\n",
        "        edges,\n",
        "        hidden_units,\n",
        "        num_heads,\n",
        "        num_layers,\n",
        "        output_dim,\n",
        "        **kwargs,\n",
        "    ):\n",
        "        super().__init__(**kwargs)\n",
        "        self.node_states = node_states\n",
        "        self.edges = edges\n",
        "        self.preprocess = layers.Dense(hidden_units * num_heads, activation=\"relu\")\n",
        "        self.attention_layers = [\n",
        "            MultiHeadGraphAttention(hidden_units, num_heads) for _ in range(num_layers)\n",
        "        ]\n",
        "        self.output_layer = layers.Dense(output_dim)\n",
        "\n",
        "    def call(self, inputs):\n",
        "        node_states, edges = inputs\n",
        "        x = self.preprocess(node_states)\n",
        "        for attention_layer in self.attention_layers:\n",
        "            x = attention_layer([x, edges]) + x\n",
        "        outputs = self.output_layer(x)\n",
        "        return outputs\n",
        "\n",
        "    def train_step(self, data):\n",
        "        indices, labels = data\n",
        "\n",
        "        with tf.GradientTape() as tape:\n",
        "            # Forward pass\n",
        "            outputs = self([self.node_states, self.edges])\n",
        "            # Compute loss\n",
        "            loss = self.compiled_loss(labels, tf.gather(outputs, indices))\n",
        "        # Compute gradients\n",
        "        grads = tape.gradient(loss, self.trainable_weights)\n",
        "        # Apply gradients (update weights)\n",
        "        optimizer.apply_gradients(zip(grads, self.trainable_weights))\n",
        "        # Update metric(s)\n",
        "        self.compiled_metrics.update_state(labels, tf.gather(outputs, indices))\n",
        "\n",
        "        return {m.name: m.result() for m in self.metrics}\n",
        "\n",
        "    def predict_step(self, data):\n",
        "        indices = data\n",
        "        # Forward pass\n",
        "        outputs = self([self.node_states, self.edges])\n",
        "        # Compute probabilities\n",
        "        return tf.nn.softmax(tf.gather(outputs, indices))\n",
        "\n",
        "    def test_step(self, data):\n",
        "        indices, labels = data\n",
        "        # Forward pass\n",
        "        outputs = self([self.node_states, self.edges])\n",
        "        # Compute loss\n",
        "        loss = self.compiled_loss(labels, tf.gather(outputs, indices))\n",
        "        # Update metric(s)\n",
        "        self.compiled_metrics.update_state(labels, tf.gather(outputs, indices))\n",
        "\n",
        "        return {m.name: m.result() for m in self.metrics}\n"
      ]
    },
    {
      "cell_type": "markdown",
      "metadata": {
        "id": "ML6t-yWba8_4"
      },
      "source": [
        "### Train and evaluate"
      ]
    },
    {
      "cell_type": "code",
      "execution_count": null,
      "metadata": {
        "id": "i71TQX-ba8_4",
        "outputId": "8f20bf54-7cf8-4045-cbb6-8b2b2471cb30",
        "colab": {
          "base_uri": "https://localhost:8080/"
        }
      },
      "outputs": [
        {
          "output_type": "stream",
          "name": "stdout",
          "text": [
            "Epoch 1/100\n",
            "5/5 - 25s - loss: 1.8667 - acc: 0.2660 - val_loss: 1.6194 - val_acc: 0.3824 - 25s/epoch - 5s/step\n",
            "Epoch 2/100\n",
            "5/5 - 0s - loss: 1.2569 - acc: 0.5862 - val_loss: 1.0516 - val_acc: 0.6176 - 302ms/epoch - 60ms/step\n",
            "Epoch 3/100\n",
            "5/5 - 0s - loss: 0.7280 - acc: 0.7726 - val_loss: 0.8732 - val_acc: 0.7941 - 245ms/epoch - 49ms/step\n",
            "Epoch 4/100\n",
            "5/5 - 0s - loss: 0.4230 - acc: 0.8744 - val_loss: 0.7309 - val_acc: 0.7941 - 220ms/epoch - 44ms/step\n",
            "Epoch 5/100\n",
            "5/5 - 0s - loss: 0.2543 - acc: 0.9335 - val_loss: 0.7155 - val_acc: 0.8015 - 245ms/epoch - 49ms/step\n",
            "Epoch 6/100\n",
            "5/5 - 0s - loss: 0.1576 - acc: 0.9647 - val_loss: 0.7177 - val_acc: 0.8162 - 243ms/epoch - 49ms/step\n",
            "Epoch 7/100\n",
            "5/5 - 0s - loss: 0.1020 - acc: 0.9811 - val_loss: 0.6949 - val_acc: 0.8235 - 234ms/epoch - 47ms/step\n",
            "Epoch 8/100\n",
            "5/5 - 0s - loss: 0.0723 - acc: 0.9926 - val_loss: 0.6861 - val_acc: 0.8309 - 238ms/epoch - 48ms/step\n",
            "Epoch 9/100\n",
            "5/5 - 0s - loss: 0.0445 - acc: 0.9967 - val_loss: 0.7229 - val_acc: 0.8309 - 267ms/epoch - 53ms/step\n",
            "Epoch 10/100\n",
            "5/5 - 0s - loss: 0.0319 - acc: 0.9992 - val_loss: 0.6671 - val_acc: 0.8456 - 242ms/epoch - 48ms/step\n",
            "Epoch 11/100\n",
            "5/5 - 0s - loss: 0.0227 - acc: 0.9984 - val_loss: 0.7077 - val_acc: 0.8309 - 214ms/epoch - 43ms/step\n",
            "Epoch 12/100\n",
            "5/5 - 0s - loss: 0.0188 - acc: 0.9992 - val_loss: 0.7208 - val_acc: 0.8382 - 221ms/epoch - 44ms/step\n",
            "Epoch 13/100\n",
            "5/5 - 0s - loss: 0.0150 - acc: 0.9992 - val_loss: 0.7229 - val_acc: 0.8382 - 217ms/epoch - 43ms/step\n",
            "Epoch 14/100\n",
            "5/5 - 0s - loss: 0.0120 - acc: 0.9992 - val_loss: 0.7355 - val_acc: 0.8382 - 232ms/epoch - 46ms/step\n",
            "Epoch 15/100\n",
            "5/5 - 0s - loss: 0.0103 - acc: 0.9992 - val_loss: 0.7464 - val_acc: 0.8382 - 251ms/epoch - 50ms/step\n",
            "----------------------------------------------------------------------------\n",
            "Test Accuracy 79.0%\n"
          ]
        }
      ],
      "source": [
        "# Define hyper-parameters\n",
        "HIDDEN_UNITS = 100\n",
        "NUM_HEADS = 8\n",
        "NUM_LAYERS = 3\n",
        "OUTPUT_DIM = len(class_values)\n",
        "\n",
        "NUM_EPOCHS = 100\n",
        "BATCH_SIZE = 256\n",
        "VALIDATION_SPLIT = 0.1\n",
        "LEARNING_RATE = 3e-1\n",
        "MOMENTUM = 0.9\n",
        "\n",
        "loss_fn = keras.losses.SparseCategoricalCrossentropy(from_logits=True)\n",
        "optimizer = keras.optimizers.SGD(LEARNING_RATE, momentum=MOMENTUM)\n",
        "accuracy_fn = keras.metrics.SparseCategoricalAccuracy(name=\"acc\")\n",
        "early_stopping = keras.callbacks.EarlyStopping(\n",
        "    monitor=\"val_acc\", min_delta=1e-5, patience=5, restore_best_weights=True\n",
        ")\n",
        "\n",
        "# Build model\n",
        "gat_model = GraphAttentionNetwork(\n",
        "    node_states, edges, HIDDEN_UNITS, NUM_HEADS, NUM_LAYERS, OUTPUT_DIM\n",
        ")\n",
        "\n",
        "# Compile model\n",
        "gat_model.compile(loss=loss_fn, optimizer=optimizer, metrics=[accuracy_fn])\n",
        "\n",
        "gat_model.fit(\n",
        "    x=train_indices,\n",
        "    y=train_labels,\n",
        "    validation_split=VALIDATION_SPLIT,\n",
        "    batch_size=BATCH_SIZE,\n",
        "    epochs=NUM_EPOCHS,\n",
        "    callbacks=[early_stopping],\n",
        "    verbose=2,\n",
        ")\n",
        "\n",
        "_, test_accuracy = gat_model.evaluate(x=test_indices, y=test_labels, verbose=0)\n",
        "\n",
        "print(\"--\" * 38 + f\"\\nTest Accuracy {test_accuracy*100:.1f}%\")"
      ]
    },
    {
      "cell_type": "markdown",
      "metadata": {
        "id": "gj8uU4_9a8_4"
      },
      "source": [
        "### Predict (probabilities)"
      ]
    },
    {
      "cell_type": "code",
      "execution_count": null,
      "metadata": {
        "id": "WKoj3YIOa8_4",
        "outputId": "df0242b8-3273-4c49-add3-430563c25f1c",
        "colab": {
          "base_uri": "https://localhost:8080/"
        }
      },
      "outputs": [
        {
          "output_type": "stream",
          "name": "stdout",
          "text": [
            "43/43 [==============================] - 4s 19ms/step\n",
            "Example 1: Probabilistic_Methods\n",
            "\tProbability of Case_Based               =   2.289%\n",
            "\tProbability of Genetic_Algorithms       =   0.018%\n",
            "\tProbability of Neural_Networks          =   8.391%\n",
            "\tProbability of Probabilistic_Methods    =  88.740%\n",
            "\tProbability of Reinforcement_Learning   =   0.138%\n",
            "\tProbability of Rule_Learning            =   0.006%\n",
            "\tProbability of Theory                   =   0.418%\n",
            "------------------------------------------------------------\n",
            "Example 2: Genetic_Algorithms\n",
            "\tProbability of Case_Based               =   0.162%\n",
            "\tProbability of Genetic_Algorithms       =  99.793%\n",
            "\tProbability of Neural_Networks          =   0.015%\n",
            "\tProbability of Probabilistic_Methods    =   0.000%\n",
            "\tProbability of Reinforcement_Learning   =   0.019%\n",
            "\tProbability of Rule_Learning            =   0.004%\n",
            "\tProbability of Theory                   =   0.007%\n",
            "------------------------------------------------------------\n",
            "Example 3: Theory\n",
            "\tProbability of Case_Based               =   6.551%\n",
            "\tProbability of Genetic_Algorithms       =   0.399%\n",
            "\tProbability of Neural_Networks          =   0.094%\n",
            "\tProbability of Probabilistic_Methods    =  18.914%\n",
            "\tProbability of Reinforcement_Learning   =   0.652%\n",
            "\tProbability of Rule_Learning            =   6.337%\n",
            "\tProbability of Theory                   =  67.053%\n",
            "------------------------------------------------------------\n",
            "Example 4: Neural_Networks\n",
            "\tProbability of Case_Based               =   0.002%\n",
            "\tProbability of Genetic_Algorithms       =   0.000%\n",
            "\tProbability of Neural_Networks          =  99.957%\n",
            "\tProbability of Probabilistic_Methods    =   0.035%\n",
            "\tProbability of Reinforcement_Learning   =   0.001%\n",
            "\tProbability of Rule_Learning            =   0.000%\n",
            "\tProbability of Theory                   =   0.005%\n",
            "------------------------------------------------------------\n",
            "Example 5: Theory\n",
            "\tProbability of Case_Based               =   9.600%\n",
            "\tProbability of Genetic_Algorithms       =   2.205%\n",
            "\tProbability of Neural_Networks          =   3.381%\n",
            "\tProbability of Probabilistic_Methods    =  13.866%\n",
            "\tProbability of Reinforcement_Learning   =   0.981%\n",
            "\tProbability of Rule_Learning            =  42.530%\n",
            "\tProbability of Theory                   =  27.438%\n",
            "------------------------------------------------------------\n",
            "Example 6: Genetic_Algorithms\n",
            "\tProbability of Case_Based               =   0.000%\n",
            "\tProbability of Genetic_Algorithms       = 100.000%\n",
            "\tProbability of Neural_Networks          =   0.000%\n",
            "\tProbability of Probabilistic_Methods    =   0.000%\n",
            "\tProbability of Reinforcement_Learning   =   0.000%\n",
            "\tProbability of Rule_Learning            =   0.000%\n",
            "\tProbability of Theory                   =   0.000%\n",
            "------------------------------------------------------------\n",
            "Example 7: Neural_Networks\n",
            "\tProbability of Case_Based               =   0.057%\n",
            "\tProbability of Genetic_Algorithms       =   0.006%\n",
            "\tProbability of Neural_Networks          =  97.808%\n",
            "\tProbability of Probabilistic_Methods    =   2.035%\n",
            "\tProbability of Reinforcement_Learning   =   0.007%\n",
            "\tProbability of Rule_Learning            =   0.022%\n",
            "\tProbability of Theory                   =   0.065%\n",
            "------------------------------------------------------------\n",
            "Example 8: Genetic_Algorithms\n",
            "\tProbability of Case_Based               =   0.000%\n",
            "\tProbability of Genetic_Algorithms       = 100.000%\n",
            "\tProbability of Neural_Networks          =   0.000%\n",
            "\tProbability of Probabilistic_Methods    =   0.000%\n",
            "\tProbability of Reinforcement_Learning   =   0.000%\n",
            "\tProbability of Rule_Learning            =   0.000%\n",
            "\tProbability of Theory                   =   0.000%\n",
            "------------------------------------------------------------\n",
            "Example 9: Theory\n",
            "\tProbability of Case_Based               =   3.038%\n",
            "\tProbability of Genetic_Algorithms       =   1.598%\n",
            "\tProbability of Neural_Networks          =  39.658%\n",
            "\tProbability of Probabilistic_Methods    =  47.335%\n",
            "\tProbability of Reinforcement_Learning   =   1.838%\n",
            "\tProbability of Rule_Learning            =   1.204%\n",
            "\tProbability of Theory                   =   5.329%\n",
            "------------------------------------------------------------\n",
            "Example 10: Case_Based\n",
            "\tProbability of Case_Based               =  99.941%\n",
            "\tProbability of Genetic_Algorithms       =   0.000%\n",
            "\tProbability of Neural_Networks          =   0.001%\n",
            "\tProbability of Probabilistic_Methods    =   0.023%\n",
            "\tProbability of Reinforcement_Learning   =   0.000%\n",
            "\tProbability of Rule_Learning            =   0.029%\n",
            "\tProbability of Theory                   =   0.005%\n",
            "------------------------------------------------------------\n"
          ]
        }
      ],
      "source": [
        "test_probs = gat_model.predict(x=test_indices)\n",
        "\n",
        "mapping = {v: k for (k, v) in class_idx.items()}\n",
        "\n",
        "for i, (probs, label) in enumerate(zip(test_probs[:10], test_labels[:10])):\n",
        "    print(f\"Example {i+1}: {mapping[label]}\")\n",
        "    for j, c in zip(probs, class_idx.keys()):\n",
        "        print(f\"\\tProbability of {c: <24} = {j*100:7.3f}%\")\n",
        "    print(\"---\" * 20)"
      ]
    },
    {
      "cell_type": "markdown",
      "metadata": {
        "id": "0rnGMC4Ua8_5"
      },
      "source": [
        "## Conclusions\n",
        "\n",
        "The results look OK! The GAT model seems to correctly predict the subjects of the papers,\n",
        "based on what they cite, about 80% of the time. Further improvements could be\n",
        "made by fine-tuning the hyper-parameters of the GAT. For instance, try changing the number of layers,\n",
        "the number of hidden units, or the optimizer/learning rate; add regularization (e.g., dropout);\n",
        "or modify the preprocessing step. We could also try to implement *self-loops*\n",
        "(i.e., paper X cites paper X) and/or make the graph *undirected*."
      ]
    }
  ],
  "metadata": {
    "accelerator": "GPU",
    "colab": {
      "provenance": [],
      "toc_visible": true
    },
    "kernelspec": {
      "display_name": "Python 3",
      "language": "python",
      "name": "python3"
    },
    "language_info": {
      "codemirror_mode": {
        "name": "ipython",
        "version": 3
      },
      "file_extension": ".py",
      "mimetype": "text/x-python",
      "name": "python",
      "nbconvert_exporter": "python",
      "pygments_lexer": "ipython3",
      "version": "3.7.0"
    }
  },
  "nbformat": 4,
  "nbformat_minor": 0
}